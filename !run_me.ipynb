{
 "cells": [
  {
   "cell_type": "code",
   "execution_count": 4,
   "id": "5bf7248b-cde2-47a7-801d-204311bd2f2b",
   "metadata": {},
   "outputs": [
    {
     "name": "stdout",
     "output_type": "stream",
     "text": [
      "Excel not connected\n",
      "Actually hidden progress frame in Inspect-Left\n",
      "Actually hidden filter frame in Inspect-Left\n",
      "Actually hidden summary buttons frame in Inspect-Left\n",
      "Modified formula list height to show one result row in Inspect-Left\n",
      "Successfully added scan button in Inspect-Left\n",
      "Actually hidden progress frame in Inspect-Right\n",
      "Actually hidden filter frame in Inspect-Right\n",
      "Actually hidden summary buttons frame in Inspect-Right\n",
      "Modified formula list height to show one result row in Inspect-Right\n",
      "Successfully added scan button in Inspect-Right\n",
      "Scanned selected cell B12 in Inspect-Left\n",
      "Auto-selected first result in Inspect-Left\n",
      "Opened dependency explosion popup for 工作表1!B12\n"
     ]
    }
   ],
   "source": [
    "%run main.py\n"
   ]
  },
  {
   "cell_type": "code",
   "execution_count": null,
   "id": "fbf014e8-2cfb-4f2a-9973-388f00ac4458",
   "metadata": {},
   "outputs": [],
   "source": []
  },
  {
   "cell_type": "code",
   "execution_count": null,
   "id": "81db3250-e94a-4d22-a8da-6685bfaf2cc8",
   "metadata": {},
   "outputs": [],
   "source": []
  },
  {
   "cell_type": "code",
   "execution_count": null,
   "id": "db194dfe-8d0a-4e4b-b9a4-7da96cf8069a",
   "metadata": {},
   "outputs": [],
   "source": []
  },
  {
   "cell_type": "code",
   "execution_count": 1,
   "id": "0f5ae363-33a4-48af-8711-59ba6fa14139",
   "metadata": {},
   "outputs": [
    {
     "name": "stdout",
     "output_type": "stream",
     "text": [
      "V:\\Folder\\file\\excel.xlsx\n"
     ]
    }
   ],
   "source": [
    "input_str = 'V:\\\\\\\\Folder\\\\\\\\file\\\\\\\\excel.xlsx'\n",
    "output_str = input_str.replace('\\\\\\\\', '\\\\')\n",
    "print(output_str)"
   ]
  },
  {
   "cell_type": "code",
   "execution_count": null,
   "id": "a8cb794d-f4e5-45fb-b899-a131837049a4",
   "metadata": {},
   "outputs": [],
   "source": []
  },
  {
   "cell_type": "markdown",
   "id": "68990c5f-9e30-4c0c-a2e0-ff0369c9f233",
   "metadata": {},
   "source": [
    "這是一個模擬的、更複雜的依賴關係圖，它展示了一個儲存格如何由多個層級、包含外部參照和不同公式類型的儲存格組合而成。\n",
    "\n",
    "```\n",
    "\n",
    "+------------------------------------+\n",
    "| [Pricing.xlsx]Rates!A1             |\n",
    "| ---------------------------------- |\n",
    "| Type: External Value               |\n",
    "| Value: 500                         |\n",
    "+------------------------------------+\n",
    "                 ^\n",
    "                 |\n",
    "+----------------+-------------------+\n",
    "| G3                                 |      +-----------------------------+\n",
    "| ---------------------------------- |      | G4                          |\n",
    "| Type: External Reference           |      | --------------------------- |\n",
    "| Formula: ='[Pricing.xlsx]Rates'!A1 |      | Type: Value                 |\n",
    "| Value: 500                         |      | Value: 1.2                  |\n",
    "+------------------------------------+      +-----------------------------+\n",
    "                 ^                                 ^\n",
    "                 |                                 |\n",
    "                 +----------------+----------------+\n",
    "                                  |\n",
    "                                  v\n",
    "                 +------------------------------------+\n",
    "                 | G5                                 |\n",
    "                 | ---------------------------------- |\n",
    "                 | Type: Formula                      |\n",
    "                 | Formula: =G3*G4                    |\n",
    "                 | Value: 600                         |\n",
    "                 +------------------------------------+\n",
    "                                  ^\n",
    "                                  |\n",
    "+---------------------------------+---------------------------------+\n",
    "|                                                                 |\n",
    "v                                                                 v\n",
    "+------------------------------------+      +-----------------------------+\n",
    "| C5                                 |      | B5                          |\n",
    "| ---------------------------------- |      | --------------------------- |\n",
    "| Type: Formula                      |      | Type: Value                 |\n",
    "| Formula: =VLOOKUP(B5, ...)         |      | Value: \"ID-123\"             |\n",
    "| Value: \"Product A\"                 |      +-----------------------------+\n",
    "+------------------------------------+                 ^\n",
    "                 ^                                 |\n",
    "                 |                                 |\n",
    "                 +---------------------------------+\n",
    "                                  |\n",
    "                                  v\n",
    "                 +------------------------------------+\n",
    "                 | D10                                |\n",
    "                 | ---------------------------------- |\n",
    "                 | Type: Formula                      |\n",
    "                 | Formula: =C5+G5                    |\n",
    "                 | Value: \"Product A600\" (Error/Concat) |\n",
    "                 +------------------------------------+\n",
    "\n",
    "```\n"
   ]
  },
  {
   "cell_type": "code",
   "execution_count": null,
   "id": "9cdac8db-ddf3-42d5-969b-7bc69a8dc9c8",
   "metadata": {},
   "outputs": [],
   "source": []
  }
 ],
 "metadata": {
  "kernelspec": {
   "display_name": "Python [conda env:base] *",
   "language": "python",
   "name": "conda-base-py"
  },
  "language_info": {
   "codemirror_mode": {
    "name": "ipython",
    "version": 3
   },
   "file_extension": ".py",
   "mimetype": "text/x-python",
   "name": "python",
   "nbconvert_exporter": "python",
   "pygments_lexer": "ipython3",
   "version": "3.12.7"
  }
 },
 "nbformat": 4,
 "nbformat_minor": 5
}
