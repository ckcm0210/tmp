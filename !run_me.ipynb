{
 "cells": [
  {
   "cell_type": "code",
   "execution_count": null,
   "id": "5bf7248b-cde2-47a7-801d-204311bd2f2b",
   "metadata": {},
   "outputs": [
    {
     "name": "stdout",
     "output_type": "stream",
     "text": [
      "Actually hidden progress frame in Inspect-Left\n",
      "Actually hidden filter frame in Inspect-Left\n",
      "Actually hidden summary buttons frame in Inspect-Left\n",
      "Modified formula list height to show one result row in Inspect-Left\n",
      "Successfully added scan button in Inspect-Left\n",
      "Actually hidden progress frame in Inspect-Right\n",
      "Actually hidden filter frame in Inspect-Right\n",
      "Actually hidden summary buttons frame in Inspect-Right\n",
      "Modified formula list height to show one result row in Inspect-Right\n",
      "Successfully added scan button in Inspect-Right\n",
      "Scanned selected cell A8 in Inspect-Left\n",
      "Closed all tabs in Inspect-Left\n"
     ]
    }
   ],
   "source": [
    "%run main.py\n"
   ]
  },
  {
   "cell_type": "code",
   "execution_count": null,
   "id": "a8cb794d-f4e5-45fb-b899-a131837049a4",
   "metadata": {},
   "outputs": [],
   "source": []
  },
  {
   "cell_type": "code",
   "execution_count": null,
   "id": "791f1d5f-f8a7-451b-923b-d49b109eb11d",
   "metadata": {},
   "outputs": [],
   "source": []
  }
 ],
 "metadata": {
  "kernelspec": {
   "display_name": "Python [conda env:base] *",
   "language": "python",
   "name": "conda-base-py"
  },
  "language_info": {
   "codemirror_mode": {
    "name": "ipython",
    "version": 3
   },
   "file_extension": ".py",
   "mimetype": "text/x-python",
   "name": "python",
   "nbconvert_exporter": "python",
   "pygments_lexer": "ipython3",
   "version": "3.12.7"
  }
 },
 "nbformat": 4,
 "nbformat_minor": 5
}
